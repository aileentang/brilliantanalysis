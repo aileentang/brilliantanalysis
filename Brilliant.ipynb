{
 "cells": [
  {
   "cell_type": "code",
   "execution_count": 39,
   "id": "90fdb57d-7d90-4221-8177-f71b37c7fdf9",
   "metadata": {},
   "outputs": [],
   "source": [
    "import pandas as pd\n",
    "import numpy as np\n",
    "import matplotlib.pyplot as plt\n",
    "import json\n",
    "\n",
    "from app_store_scraper import AppStore"
   ]
  },
  {
   "cell_type": "code",
   "execution_count": 14,
   "id": "30b382b1-f515-4ab6-be53-3c4af4ad0c9c",
   "metadata": {},
   "outputs": [
    {
     "name": "stderr",
     "output_type": "stream",
     "text": [
      "2023-04-11 08:17:11,030 [INFO] Base - Initialised: AppStore('us', 'brilliant', 913335252)\n",
      "2023-04-11 08:17:11,031 [INFO] Base - Ready to fetch reviews from: https://apps.apple.com/us/app/brilliant/id913335252\n"
     ]
    }
   ],
   "source": [
    "brilliant = AppStore(country='us', app_name='brilliant', app_id = '913335252')"
   ]
  },
  {
   "cell_type": "code",
   "execution_count": 17,
   "id": "e9b06bac-6910-4472-b2d5-d3d69a44f39a",
   "metadata": {},
   "outputs": [
    {
     "name": "stderr",
     "output_type": "stream",
     "text": [
      "2023-04-11 08:18:52,510 [INFO] Base - [id:913335252] Fetched 440 reviews (440 fetched in total)\n",
      "2023-04-11 08:18:58,399 [INFO] Base - [id:913335252] Fetched 800 reviews (800 fetched in total)\n",
      "2023-04-11 08:19:03,917 [INFO] Base - [id:913335252] Fetched 1120 reviews (1120 fetched in total)\n",
      "2023-04-11 08:19:09,598 [INFO] Base - [id:913335252] Fetched 1460 reviews (1460 fetched in total)\n",
      "2023-04-11 08:19:15,074 [INFO] Base - [id:913335252] Fetched 1760 reviews (1760 fetched in total)\n",
      "2023-04-11 08:19:20,679 [INFO] Base - [id:913335252] Fetched 2100 reviews (2100 fetched in total)\n",
      "2023-04-11 08:19:26,189 [INFO] Base - [id:913335252] Fetched 2420 reviews (2420 fetched in total)\n",
      "2023-04-11 08:19:30,530 [INFO] Base - [id:913335252] Fetched 2627 reviews (2627 fetched in total)\n"
     ]
    }
   ],
   "source": [
    "brilliant.review(how_many=10000)"
   ]
  },
  {
   "cell_type": "code",
   "execution_count": 31,
   "id": "e28070df-dd6a-412f-9991-5084e539f1d3",
   "metadata": {},
   "outputs": [
    {
     "data": {
      "text/plain": [
       "{'id': 945521,\n",
       " 'body': '[Edit: if the formatting here is too hard to read, I\\'m happy to send in a better format if you email support@brilliant.org] Hi Young bob 37,\\n\\nFirst, thank you very much for taking the time to write in with your feedback. The only way Brilliant will get better is if people like you spend the time on something like this. If you have more feedback – please write to support@brilliant.org.\\n\\n\\nOn to the substance of your feedback:\\n\\nYou write: \"The linear algebra module in quantitative finance is lacking a lot of basic explanations.\" The target audience for this course are people prepping for jobs/interviews in the quant finance industry. Therefore, the course participant is expected to be be familiar with most of these concepts already, and the Brilliant wiki + other courses (like Probability) support this. We could make this more clear for sure, but we definitely encourage you to use the app search to find other content when you get stuck.\\n\\nYou write: \"In discussing the determinant, there is a problem asking what is the determinant of (AB) ... and under the solution it says ... det(AB) = det(A)det(B)= ((1)(3)-(-2)(1))((2)(1)-(4)(-1)) = (5)(6) = 30 yet there was no previous explanation in the module of how to calculate the determinant of an individual matrix, i.e. the determinant of A or B. Does the person using the app already know how to calculate the determinant? Will they be able to figure it out by looking at the solution? The way it is written, it is almost like saying that the reader should know. I feel that is big assumption to make. What happens when someone is on that module and they get stuck because they don\\'t know? They may not dig any further and see how to calculate an individual matrix determinant by looking closely at the solution.\"\\n\\nJust before that problem there is a link to an excellent wiki page about determinants: https://brilliant.org/wiki/expansion-of-determinants/.\\n\\nYou write: \"Another issue is the rate at which you guys are completing the modules. For example, only recently have new modules opened up in the machine learning section, yet it has been sitting there tantalizingly for months. I have to ask as to the reason behind this. Is it financial? Are you guys stringing people along in the hopes of more profit because of longer subscriptions? This all quite frustrating because I really feel these oversights are hindering the potential of the Brilliant app.\"\\n\\nThis is a completely reasonable complaint. We\\'ll be adding explicit launch dates soon.\\n\\nYou write: \"I like to think that you guys are patiently brainstorming and revising to develop a quality project, but when I look at the quantitative finance section for example, it feels sorely lacking in the depth of material. It looks like it was put out without good crosschecking and proofing.\"\\n\\nIf you think things can be better, please let us know! https://help.brilliant.org/solving-problems-on-brilliant/how-do-i-report-that-a-problem-has-a-mistake-has-a-wrong-answer-or-is-unclear\\n\\nYou write: \"It feels like the developers are being perfectionistic when it comes to releasing new modules. My recommendation is that you put out what might be partially finished and ask for user input. You have whole community that can help develop these modules - why not tap into that more?\"\\n\\nThis seems to be in conflict with your complaints above. Could you clarify what you mean by emailing support@brilliant.org?\\n\\nCheers!\\nThe team at Brilliant',\n",
       " 'modified': '2017-08-05T00:18:24Z'}"
      ]
     },
     "execution_count": 31,
     "metadata": {},
     "output_type": "execute_result"
    }
   ],
   "source": [
    "brilliant.reviews[2622]['developerResponse']"
   ]
  },
  {
   "cell_type": "code",
   "execution_count": 33,
   "id": "6870365e-fdda-4c86-8246-37a4eccd2c33",
   "metadata": {},
   "outputs": [],
   "source": [
    "brilliantdf = pd.DataFrame(np.array(brilliant.reviews),columns=['review'])\n",
    "brilliantdata = pd.DataFrame(brilliantdf.pop('review').tolist())"
   ]
  },
  {
   "cell_type": "code",
   "execution_count": 47,
   "id": "247eb1f7-ed03-40c7-9655-11f528707f2a",
   "metadata": {},
   "outputs": [],
   "source": [
    "percOf1 = sum(brilliantdata['rating'] == 1)/len(brilliantdata)\n",
    "percOf2 = sum(brilliantdata['rating'] == 2)/len(brilliantdata)\n",
    "percOf3 = sum(brilliantdata['rating'] == 3)/len(brilliantdata)\n",
    "percOf4 = sum(brilliantdata['rating'] == 4)/len(brilliantdata)\n",
    "percOf5 = sum(brilliantdata['rating'] == 5)/len(brilliantdata)"
   ]
  },
  {
   "cell_type": "code",
   "execution_count": 72,
   "id": "39ba60cd-9650-4ad4-98ee-f85fb7e359c3",
   "metadata": {},
   "outputs": [
    {
     "name": "stdout",
     "output_type": "stream",
     "text": [
      "0.06813856109630757 0.02169775409212029 0.04377617053673392 0.11077274457556148 0.7556147696992768\n"
     ]
    },
    {
     "data": {
      "text/plain": [
       "([<matplotlib.patches.Wedge at 0x7fbea167ebe0>,\n",
       "  <matplotlib.patches.Wedge at 0x7fbea167e8e0>,\n",
       "  <matplotlib.patches.Wedge at 0x7fbe914f8370>,\n",
       "  <matplotlib.patches.Wedge at 0x7fbe914f88b0>,\n",
       "  <matplotlib.patches.Wedge at 0x7fbe914f8e50>],\n",
       " [Text(1.0748933173578175, 0.23367575034544452, '1 Star'),\n",
       "  Text(0.9672892824706173, 0.523785685197179, '2 Stars'),\n",
       "  Text(0.8399180190324808, 0.710308187552807, '3 Stars'),\n",
       "  Text(0.4113624496887437, 1.0201867157467186, '4 Stars'),\n",
       "  Text(-0.7914159475983537, -0.7639769616205715, '5 Stars')])"
      ]
     },
     "execution_count": 72,
     "metadata": {},
     "output_type": "execute_result"
    },
    {
     "data": {
      "image/png": "[encoded data removed]",
      "text/plain": [
       "<Figure size 640x480 with 1 Axes>"
      ]
     },
     "metadata": {},
     "output_type": "display_data"
    }
   ],
   "source": [
    "print(percOf1, percOf2, percOf3, percOf4, percOf5)\n",
    "labels = '1 Star', '2 Stars', '3 Stars', '4 Stars', '5 Stars'\n",
    "sizes = [percOf1, percOf2, percOf3, percOf4, percOf5]\n",
    "fig, ax = plt.subplots()\n",
    "colors = ['deepskyblue','paleturquoise','skyblue','dodgerblue','royalblue']\n",
    "colors.reverse()\n",
    "ax.pie(sizes, labels=labels, colors = colors)"
   ]
  },
  {
   "cell_type": "code",
   "execution_count": 41,
   "id": "f96fa440-9a83-4bcc-a85b-5d1826740e7f",
   "metadata": {},
   "outputs": [
    {
     "data": {
      "text/plain": [
       "(array([ 179.,    0.,   57.,    0.,    0.,  115.,    0.,  291.,    0.,\n",
       "        1985.]),\n",
       " array([1. , 1.4, 1.8, 2.2, 2.6, 3. , 3.4, 3.8, 4.2, 4.6, 5. ]),\n",
       " <BarContainer object of 10 artists>)"
      ]
     },
     "execution_count": 41,
     "metadata": {},
     "output_type": "execute_result"
    },
    {
     "data": {
      "image/png": "[encoded data removed]",
      "text/plain": [
       "<Figure size 640x480 with 1 Axes>"
      ]
     },
     "metadata": {},
     "output_type": "display_data"
    }
   ],
   "source": [
    "plt.hist(brilliantdata['rating'])"
   ]
  },
  {
   "cell_type": "code",
   "execution_count": null,
   "id": "d53e6626-9596-4369-8243-b53d0878eeea",
   "metadata": {},
   "outputs": [],
   "source": []
  },
  {
   "cell_type": "code",
   "execution_count": null,
   "id": "2c4447e9-e0c6-4a58-ab6a-fb192483e58d",
   "metadata": {},
   "outputs": [],
   "source": []
  }
 ],
 "metadata": {
  "kernelspec": {
   "display_name": "Python 3 (ipykernel)",
   "language": "python",
   "name": "python3"
  },
  "language_info": {
   "codemirror_mode": {
    "name": "ipython",
    "version": 3
   },
   "file_extension": ".py",
   "mimetype": "text/x-python",
   "name": "python",
   "nbconvert_exporter": "python",
   "pygments_lexer": "ipython3",
   "version": "3.9.13"
  }
 },
 "nbformat": 4,
 "nbformat_minor": 5
}
